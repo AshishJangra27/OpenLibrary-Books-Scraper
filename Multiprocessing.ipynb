{
  "nbformat": 4,
  "nbformat_minor": 0,
  "metadata": {
    "colab": {
      "provenance": []
    },
    "kernelspec": {
      "name": "python3",
      "display_name": "Python 3"
    },
    "language_info": {
      "name": "python"
    }
  },
  "cells": [
    {
      "cell_type": "markdown",
      "source": [
        "### 1. Cloning the Dataset"
      ],
      "metadata": {
        "id": "HoQcFkPrItpG"
      }
    },
    {
      "cell_type": "code",
      "execution_count": 1,
      "metadata": {
        "colab": {
          "base_uri": "https://localhost:8080/"
        },
        "id": "bPHA0R6ZxgI5",
        "outputId": "2eb9730d-fa9b-460f-aed4-9f1459c4b93f"
      },
      "outputs": [
        {
          "output_type": "stream",
          "name": "stdout",
          "text": [
            "rm: cannot remove '/content/OpenLibrary-Books-Scraper': No such file or directory\n",
            "Cloning into 'OpenLibrary-Books-Scraper'...\n",
            "remote: Enumerating objects: 93, done.\u001b[K\n",
            "remote: Counting objects: 100% (5/5), done.\u001b[K\n",
            "remote: Compressing objects: 100% (5/5), done.\u001b[K\n",
            "remote: Total 93 (delta 1), reused 0 (delta 0), pack-reused 88\u001b[K\n",
            "Unpacking objects: 100% (93/93), 60.81 MiB | 12.89 MiB/s, done.\n"
          ]
        }
      ],
      "source": [
        "!rm -r /content/OpenLibrary-Books-Scraper\n",
        "\n",
        "!git clone https://github.com/AshishJangra27/OpenLibrary-Books-Scraper"
      ]
    },
    {
      "cell_type": "markdown",
      "source": [
        "### 2. Importing Libraries"
      ],
      "metadata": {
        "id": "1Dio2JKxIv-9"
      }
    },
    {
      "cell_type": "code",
      "source": [
        "import os\n",
        "import requests\n",
        "import numpy as np\n",
        "import pandas as pd\n",
        "from tqdm import tqdm\n",
        "import multiprocessing\n",
        "from bs4 import BeautifulSoup\n",
        "\n",
        "for i in os.listdir('/content/OpenLibrary-Books-Scraper/data'):\n",
        "  os.system('gunzip /content/OpenLibrary-Books-Scraper/data/' + i)\n",
        "\n",
        "!python /content/OpenLibrary-Books-Scraper/app.py\n",
        "\n",
        "df = pd.read_csv('data.csv').drop_duplicates('title_id')\n",
        "\n",
        "df['book_stats'] = 'Nan'\n",
        "df['descriptions'] = 'Nan'\n",
        "df['reading_stats'] = 'Nan'"
      ],
      "metadata": {
        "colab": {
          "base_uri": "https://localhost:8080/"
        },
        "id": "3Iwt1_WZ1Wtb",
        "outputId": "57e2f9c1-a063-4a2e-8999-95a082c17d08"
      },
      "execution_count": 2,
      "outputs": [
        {
          "output_type": "stream",
          "name": "stdout",
          "text": [
            "100% 53/53 [00:15<00:00,  3.42it/s]\n"
          ]
        }
      ]
    },
    {
      "cell_type": "code",
      "source": [
        "def download(st,en):\n",
        "\n",
        "  book_stats = []\n",
        "  descriptions = []\n",
        "  reading_stats = []\n",
        "\n",
        "  for ids in tqdm(df['title_id'][st:en]):\n",
        "    link = 'https://openlibrary.org/' + ids\n",
        "    r = requests.get(link)\n",
        "    soup = BeautifulSoup(r.text, 'html.parser')\n",
        "\n",
        "    try:\n",
        "      reading_stat = '|'.join([ i.text.replace('\\n',' ').strip() for i in soup.find('div', class_ = 'readers-stats__wrapper mobile').find_all('li', class_ = 'reading-log-stat')])\n",
        "    except:\n",
        "      reading_stat = np.nan\n",
        "    try:\n",
        "      book_stat = '|'.join([ i.text.replace('\\n',' ').strip() for i in soup.find('div', class_ = 'edition-omniline').find_all('div', class_ = 'edition-omniline-item')])\n",
        "    except:\n",
        "      book_stat = np.nan\n",
        "    try:\n",
        "      description = soup.find('div', class_ = 'book-description').text.replace('\\n',' ').strip()\n",
        "    except:\n",
        "      description = np.nan\n",
        "\n",
        "    reading_stats.append(reading_stat)\n",
        "    book_stats.append(book_stat)\n",
        "    descriptions.append(description)\n",
        "\n",
        "  df['book_stats'][st:en]    = book_stats\n",
        "  df['descriptions'][st:en]  = descriptions\n",
        "  df['reading_stats'][st:en] = reading_stats\n",
        "\n",
        "  df[st:en].to_csv('data/' + str(st) + '_' + str(en) + '.csv', index = False)"
      ],
      "metadata": {
        "id": "cQSPDHKVw42c"
      },
      "execution_count": 3,
      "outputs": []
    },
    {
      "cell_type": "code",
      "source": [
        "p1 = multiprocessing.Process(target = download, args = (160000 , 170000))\n",
        "p2 = multiprocessing.Process(target = download, args = (170000 , 180000))\n",
        "p3 = multiprocessing.Process(target = download, args = (180000 , 190000))\n",
        "p4 = multiprocessing.Process(target = download, args = (190000 , 200000))\n",
        "p5 = multiprocessing.Process(target = download, args = (200000 , 210000))\n",
        "p6 = multiprocessing.Process(target = download, args = (210000 , 220000))\n",
        "p7 = multiprocessing.Process(target = download, args = (220000 , 230000))\n",
        "p8 = multiprocessing.Process(target = download, args = (230000 , 240000))\n",
        "\n",
        "p1.start()\n",
        "p2.start()\n",
        "p3.start()\n",
        "p4.start()\n",
        "p5.start()\n",
        "p6.start()\n",
        "p7.start()\n",
        "p8.start()\n",
        "\n",
        "p1.join()\n",
        "p2.join()\n",
        "p3.join()\n",
        "p4.join()\n",
        "p5.join()\n",
        "p6.join()\n",
        "p7.join()\n",
        "p8.join()"
      ],
      "metadata": {
        "colab": {
          "base_uri": "https://localhost:8080/"
        },
        "id": "S4O1ZBmPw4s0",
        "outputId": "51fc45d8-563e-4c06-d710-7ffc0514a4eb"
      },
      "execution_count": null,
      "outputs": [
        {
          "output_type": "stream",
          "name": "stderr",
          "text": [
            " 22%|██▏       | 2229/10000 [1:47:07<12:32:36,  5.81s/it]"
          ]
        }
      ]
    },
    {
      "cell_type": "code",
      "source": [
        "csvs = [csv for csv in os.listdir('data') if '.csv' in csv]\n",
        "\n",
        "df = pd.DataFrame()\n",
        "\n",
        "for csv in tqdm(csvs):\n",
        "    df_ = pd.read_csv('data/' + csv )\n",
        "    df_['category_'] = csv.split('.csv')[0]\n",
        "    df = pd.concat((df,df_))\n",
        "\n",
        "df.to_csv('comb3.csv', index = False)"
      ],
      "metadata": {
        "colab": {
          "base_uri": "https://localhost:8080/"
        },
        "id": "hOvbHuX3bSTJ",
        "outputId": "c0126f5b-04af-4e46-8745-2c4ed7314ce6"
      },
      "execution_count": 8,
      "outputs": [
        {
          "output_type": "stream",
          "name": "stderr",
          "text": [
            "100%|██████████| 8/8 [00:00<00:00,  8.76it/s]\n"
          ]
        }
      ]
    },
    {
      "cell_type": "code",
      "source": [
        "pd.read_csv('data.csv')"
      ],
      "metadata": {
        "colab": {
          "base_uri": "https://localhost:8080/",
          "height": 169
        },
        "id": "ZKuz9DEQbVSQ",
        "outputId": "69f5cbe3-ada8-476f-b56c-0d91605d4b63"
      },
      "execution_count": 1,
      "outputs": [
        {
          "output_type": "error",
          "ename": "NameError",
          "evalue": "ignored",
          "traceback": [
            "\u001b[0;31m---------------------------------------------------------------------------\u001b[0m",
            "\u001b[0;31mNameError\u001b[0m                                 Traceback (most recent call last)",
            "\u001b[0;32m<ipython-input-1-6f70b9c1748f>\u001b[0m in \u001b[0;36m<cell line: 1>\u001b[0;34m()\u001b[0m\n\u001b[0;32m----> 1\u001b[0;31m \u001b[0mpd\u001b[0m\u001b[0;34m.\u001b[0m\u001b[0mread_csv\u001b[0m\u001b[0;34m(\u001b[0m\u001b[0;34m'data.csv'\u001b[0m\u001b[0;34m)\u001b[0m\u001b[0;34m\u001b[0m\u001b[0;34m\u001b[0m\u001b[0m\n\u001b[0m",
            "\u001b[0;31mNameError\u001b[0m: name 'pd' is not defined"
          ]
        }
      ]
    },
    {
      "cell_type": "code",
      "source": [],
      "metadata": {
        "id": "ByMdIIEyDniA"
      },
      "execution_count": null,
      "outputs": []
    }
  ]
}