{
  "nbformat": 4,
  "nbformat_minor": 0,
  "metadata": {
    "colab": {
      "provenance": []
    },
    "kernelspec": {
      "name": "python3",
      "display_name": "Python 3"
    },
    "language_info": {
      "name": "python"
    }
  },
  "cells": [
    {
      "cell_type": "markdown",
      "source": [
        "### 1. Cloning the Dataset"
      ],
      "metadata": {
        "id": "HoQcFkPrItpG"
      }
    },
    {
      "cell_type": "code",
      "execution_count": 37,
      "metadata": {
        "colab": {
          "base_uri": "https://localhost:8080/"
        },
        "id": "bPHA0R6ZxgI5",
        "outputId": "39a71324-81ec-4359-952d-b6a2bffbf169"
      },
      "outputs": [
        {
          "output_type": "stream",
          "name": "stdout",
          "text": [
            "Cloning into 'OpenLibrary-Books-Scraper'...\n",
            "remote: Enumerating objects: 110, done.\u001b[K\n",
            "remote: Counting objects:   4% (1/22)\u001b[K\rremote: Counting objects:   9% (2/22)\u001b[K\rremote: Counting objects:  13% (3/22)\u001b[K\rremote: Counting objects:  18% (4/22)\u001b[K\rremote: Counting objects:  22% (5/22)\u001b[K\rremote: Counting objects:  27% (6/22)\u001b[K\rremote: Counting objects:  31% (7/22)\u001b[K\rremote: Counting objects:  36% (8/22)\u001b[K\rremote: Counting objects:  40% (9/22)\u001b[K\rremote: Counting objects:  45% (10/22)\u001b[K\rremote: Counting objects:  50% (11/22)\u001b[K\rremote: Counting objects:  54% (12/22)\u001b[K\rremote: Counting objects:  59% (13/22)\u001b[K\rremote: Counting objects:  63% (14/22)\u001b[K\rremote: Counting objects:  68% (15/22)\u001b[K\rremote: Counting objects:  72% (16/22)\u001b[K\rremote: Counting objects:  77% (17/22)\u001b[K\rremote: Counting objects:  81% (18/22)\u001b[K\rremote: Counting objects:  86% (19/22)\u001b[K\rremote: Counting objects:  90% (20/22)\u001b[K\rremote: Counting objects:  95% (21/22)\u001b[K\rremote: Counting objects: 100% (22/22)\u001b[K\rremote: Counting objects: 100% (22/22), done.\u001b[K\n",
            "remote: Compressing objects: 100% (16/16), done.\u001b[K\n",
            "remote: Total 110 (delta 8), reused 18 (delta 6), pack-reused 88\u001b[K\n",
            "Receiving objects: 100% (110/110), 74.74 MiB | 40.49 MiB/s, done.\n",
            "Resolving deltas: 100% (19/19), done.\n"
          ]
        }
      ],
      "source": [
        "!rm -r /content/OpenLibrary-Books-Scraper\n",
        "\n",
        "!git clone https://github.com/AshishJangra27/OpenLibrary-Books-Scraper\n",
        "\n",
        "!rm -r data\n",
        "!mkdir data"
      ]
    },
    {
      "cell_type": "markdown",
      "source": [
        "### 2. Importing Libraries"
      ],
      "metadata": {
        "id": "1Dio2JKxIv-9"
      }
    },
    {
      "cell_type": "code",
      "source": [
        "import os\n",
        "import requests\n",
        "import numpy as np\n",
        "import pandas as pd\n",
        "from tqdm import tqdm\n",
        "import multiprocessing\n",
        "from bs4 import BeautifulSoup\n",
        "from google.colab import drive\n",
        "\n",
        "for i in os.listdir('/content/OpenLibrary-Books-Scraper/data'):\n",
        "  os.system('gunzip /content/OpenLibrary-Books-Scraper/data/' + i)\n",
        "\n",
        "!python /content/OpenLibrary-Books-Scraper/app.py\n",
        "\n",
        "df = pd.read_csv('data.csv').drop_duplicates('title_id')\n",
        "\n",
        "del df['category_']\n",
        "\n",
        "df['book_stats'] = 'Nan'\n",
        "df['descriptions'] = 'Nan'\n",
        "df['reading_stats'] = 'Nan'\n",
        "\n",
        "drive.mount('/content/gdrive/', force_remount=True)"
      ],
      "metadata": {
        "id": "3Iwt1_WZ1Wtb",
        "colab": {
          "base_uri": "https://localhost:8080/"
        },
        "outputId": "cf9177a1-d09d-4d19-ad49-5ee16c7e7c76"
      },
      "execution_count": 38,
      "outputs": [
        {
          "output_type": "stream",
          "name": "stdout",
          "text": [
            "100% 56/56 [00:16<00:00,  3.46it/s]\n",
            "Mounted at /content/gdrive/\n"
          ]
        }
      ]
    },
    {
      "cell_type": "code",
      "source": [
        "def download(st,en):\n",
        "\n",
        "  book_stats = []\n",
        "  descriptions = []\n",
        "  reading_stats = []\n",
        "\n",
        "  for ids in tqdm(df['title_id'][st:en]):\n",
        "    link = 'https://openlibrary.org/' + ids\n",
        "    r = requests.get(link)\n",
        "    soup = BeautifulSoup(r.text, 'html.parser')\n",
        "\n",
        "    try:\n",
        "      reading_stat = '|'.join([ i.text.replace('\\n',' ').strip() for i in soup.find('div', class_ = 'readers-stats__wrapper mobile').find_all('li', class_ = 'reading-log-stat')])\n",
        "    except:\n",
        "      reading_stat = np.nan\n",
        "    try:\n",
        "      book_stat = '|'.join([ i.text.replace('\\n',' ').strip() for i in soup.find('div', class_ = 'edition-omniline').find_all('div', class_ = 'edition-omniline-item')])\n",
        "    except:\n",
        "      book_stat = np.nan\n",
        "    try:\n",
        "      description = soup.find('div', class_ = 'book-description').text.replace('\\n',' ').strip()\n",
        "    except:\n",
        "      description = np.nan\n",
        "\n",
        "    reading_stats.append(reading_stat)\n",
        "    book_stats.append(book_stat)\n",
        "    descriptions.append(description)\n",
        "\n",
        "  df['book_stats'][st:en]    = book_stats\n",
        "  df['descriptions'][st:en]  = descriptions\n",
        "  df['reading_stats'][st:en] = reading_stats\n",
        "\n",
        "  df[st:en].to_csv('data/' + str(st) + '_' + str(en) + '.csv', index = False)"
      ],
      "metadata": {
        "id": "cQSPDHKVw42c"
      },
      "execution_count": 39,
      "outputs": []
    },
    {
      "cell_type": "code",
      "source": [
        "start = 0\n",
        "\n",
        "n = 1000\n",
        "pr = 5\n",
        "\n",
        "process = []\n",
        "\n",
        "for i in range(start,n*pr,n):\n",
        "  process.append(multiprocessing.Process(target = download, args = ( i , i + n)))\n",
        "\n",
        "for p in process:\n",
        "  p.start()\n",
        "\n",
        "for p in process:\n",
        "  p.join()\n",
        "\n",
        "\n",
        "csvs = [csv for csv in os.listdir('data') if '.csv' in csv]\n",
        "df = pd.DataFrame()\n",
        "for csv in tqdm(csvs):\n",
        "    df_ = pd.read_csv('data/' + csv )\n",
        "    df_['category_'] = csv.split('.csv')[0]\n",
        "    df = pd.concat((df,df_))\n",
        "\n",
        "df.to_csv('/content/gdrive/MyDrive/Book Dataset/'+str(start)+'_'+str(i+n)+'.csv' , index = False)"
      ],
      "metadata": {
        "colab": {
          "base_uri": "https://localhost:8080/"
        },
        "id": "DeElU4Ljx9k1",
        "outputId": "33f14ea5-8aa2-4a2e-cf13-a2d9eab67570"
      },
      "execution_count": null,
      "outputs": [
        {
          "output_type": "stream",
          "name": "stderr",
          "text": [
            " 91%|█████████ | 906/1000 [14:51<01:30,  1.04it/s]"
          ]
        }
      ]
    }
  ]
}